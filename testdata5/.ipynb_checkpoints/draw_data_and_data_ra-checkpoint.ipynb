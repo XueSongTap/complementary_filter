{
 "cells": [
  {
   "cell_type": "code",
   "execution_count": 11,
   "id": "ef88ad0a",
   "metadata": {},
   "outputs": [
    {
     "data": {
      "image/png": "[encoded data removed]",
      "text/plain": [
       "<Figure size 432x288 with 1 Axes>"
      ]
     },
     "metadata": {
      "needs_background": "light"
     },
     "output_type": "display_data"
    }
   ],
   "source": [
    "import pandas as pd\n",
    "import numpy\n",
    "import matplotlib.pyplot as plt1\n",
    "import matplotlib.pyplot as plt\n",
    "\n",
    "\n",
    "\n",
    "#plt.scatter(df['%time'], df['field.orientation.y'])\n",
    "#plt.scatter(df['%time'], df['field.orientastion.z'])\n",
    "#plt.scatter(df['%time'], df['field.orientation.w'])\n",
    "\n",
    "\n"
   ]
  },
  {
   "cell_type": "code",
   "execution_count": 18,
   "id": "3467ae18",
   "metadata": {},
   "outputs": [
    {
     "data": {
      "text/plain": [
       "(24518, 41)"
      ]
     },
     "execution_count": 18,
     "metadata": {},
     "output_type": "execute_result"
    }
   ],
   "source": [
    "df = pd.read_csv(\"data.csv\",encoding=\"GB2312\")\n",
    "\n",
    "df.shape"
   ]
  },
  {
   "cell_type": "code",
   "execution_count": 24,
   "id": "e4b708f4",
   "metadata": {},
   "outputs": [
    {
     "data": {
      "text/html": [
       "<div>\n",
       "<style scoped>\n",
       "    .dataframe tbody tr th:only-of-type {\n",
       "        vertical-align: middle;\n",
       "    }\n",
       "\n",
       "    .dataframe tbody tr th {\n",
       "        vertical-align: top;\n",
       "    }\n",
       "\n",
       "    .dataframe thead th {\n",
       "        text-align: right;\n",
       "    }\n",
       "</style>\n",
       "<table border=\"1\" class=\"dataframe\">\n",
       "  <thead>\n",
       "    <tr style=\"text-align: right;\">\n",
       "      <th></th>\n",
       "      <th>%time</th>\n",
       "      <th>field.header.seq</th>\n",
       "      <th>field.header.stamp</th>\n",
       "      <th>field.header.frame_id</th>\n",
       "      <th>field.orientation.x</th>\n",
       "      <th>field.orientation.y</th>\n",
       "      <th>field.orientation.z</th>\n",
       "      <th>field.orientation.w</th>\n",
       "      <th>field.orientation_covariance0</th>\n",
       "      <th>field.orientation_covariance1</th>\n",
       "      <th>...</th>\n",
       "      <th>field.linear_acceleration.z</th>\n",
       "      <th>field.linear_acceleration_covariance0</th>\n",
       "      <th>field.linear_acceleration_covariance1</th>\n",
       "      <th>field.linear_acceleration_covariance2</th>\n",
       "      <th>field.linear_acceleration_covariance3</th>\n",
       "      <th>field.linear_acceleration_covariance4</th>\n",
       "      <th>field.linear_acceleration_covariance5</th>\n",
       "      <th>field.linear_acceleration_covariance6</th>\n",
       "      <th>field.linear_acceleration_covariance7</th>\n",
       "      <th>field.linear_acceleration_covariance8</th>\n",
       "    </tr>\n",
       "  </thead>\n",
       "  <tbody>\n",
       "    <tr>\n",
       "      <th>0</th>\n",
       "      <td>1660014199082657394</td>\n",
       "      <td>5307</td>\n",
       "      <td>1660014199082657394</td>\n",
       "      <td>imu</td>\n",
       "      <td>-0.002007</td>\n",
       "      <td>-0.001921</td>\n",
       "      <td>-0.000186</td>\n",
       "      <td>0.999996</td>\n",
       "      <td>0.0</td>\n",
       "      <td>0.0</td>\n",
       "      <td>...</td>\n",
       "      <td>9.798699</td>\n",
       "      <td>0.0</td>\n",
       "      <td>0.0</td>\n",
       "      <td>0.0</td>\n",
       "      <td>0.0</td>\n",
       "      <td>0.0</td>\n",
       "      <td>0.0</td>\n",
       "      <td>0.0</td>\n",
       "      <td>0.0</td>\n",
       "      <td>0.0</td>\n",
       "    </tr>\n",
       "    <tr>\n",
       "      <th>1</th>\n",
       "      <td>1660014199087610450</td>\n",
       "      <td>5308</td>\n",
       "      <td>1660014199087610450</td>\n",
       "      <td>imu</td>\n",
       "      <td>-0.001997</td>\n",
       "      <td>-0.001921</td>\n",
       "      <td>-0.000192</td>\n",
       "      <td>0.999996</td>\n",
       "      <td>0.0</td>\n",
       "      <td>0.0</td>\n",
       "      <td>...</td>\n",
       "      <td>9.817750</td>\n",
       "      <td>0.0</td>\n",
       "      <td>0.0</td>\n",
       "      <td>0.0</td>\n",
       "      <td>0.0</td>\n",
       "      <td>0.0</td>\n",
       "      <td>0.0</td>\n",
       "      <td>0.0</td>\n",
       "      <td>0.0</td>\n",
       "      <td>0.0</td>\n",
       "    </tr>\n",
       "    <tr>\n",
       "      <th>2</th>\n",
       "      <td>1660014199092513430</td>\n",
       "      <td>5309</td>\n",
       "      <td>1660014199092513430</td>\n",
       "      <td>imu</td>\n",
       "      <td>-0.001996</td>\n",
       "      <td>-0.001925</td>\n",
       "      <td>-0.000190</td>\n",
       "      <td>0.999996</td>\n",
       "      <td>0.0</td>\n",
       "      <td>0.0</td>\n",
       "      <td>...</td>\n",
       "      <td>9.808000</td>\n",
       "      <td>0.0</td>\n",
       "      <td>0.0</td>\n",
       "      <td>0.0</td>\n",
       "      <td>0.0</td>\n",
       "      <td>0.0</td>\n",
       "      <td>0.0</td>\n",
       "      <td>0.0</td>\n",
       "      <td>0.0</td>\n",
       "      <td>0.0</td>\n",
       "    </tr>\n",
       "    <tr>\n",
       "      <th>3</th>\n",
       "      <td>1660014199097677133</td>\n",
       "      <td>5310</td>\n",
       "      <td>1660014199097677133</td>\n",
       "      <td>imu</td>\n",
       "      <td>-0.001992</td>\n",
       "      <td>-0.001936</td>\n",
       "      <td>-0.000191</td>\n",
       "      <td>0.999996</td>\n",
       "      <td>0.0</td>\n",
       "      <td>0.0</td>\n",
       "      <td>...</td>\n",
       "      <td>9.800840</td>\n",
       "      <td>0.0</td>\n",
       "      <td>0.0</td>\n",
       "      <td>0.0</td>\n",
       "      <td>0.0</td>\n",
       "      <td>0.0</td>\n",
       "      <td>0.0</td>\n",
       "      <td>0.0</td>\n",
       "      <td>0.0</td>\n",
       "      <td>0.0</td>\n",
       "    </tr>\n",
       "    <tr>\n",
       "      <th>4</th>\n",
       "      <td>1660014199102629701</td>\n",
       "      <td>5311</td>\n",
       "      <td>1660014199102629701</td>\n",
       "      <td>imu</td>\n",
       "      <td>-0.001994</td>\n",
       "      <td>-0.001932</td>\n",
       "      <td>-0.000193</td>\n",
       "      <td>0.999996</td>\n",
       "      <td>0.0</td>\n",
       "      <td>0.0</td>\n",
       "      <td>...</td>\n",
       "      <td>9.810385</td>\n",
       "      <td>0.0</td>\n",
       "      <td>0.0</td>\n",
       "      <td>0.0</td>\n",
       "      <td>0.0</td>\n",
       "      <td>0.0</td>\n",
       "      <td>0.0</td>\n",
       "      <td>0.0</td>\n",
       "      <td>0.0</td>\n",
       "      <td>0.0</td>\n",
       "    </tr>\n",
       "  </tbody>\n",
       "</table>\n",
       "<p>5 rows × 41 columns</p>\n",
       "</div>"
      ],
      "text/plain": [
       "                 %time  field.header.seq   field.header.stamp  \\\n",
       "0  1660014199082657394              5307  1660014199082657394   \n",
       "1  1660014199087610450              5308  1660014199087610450   \n",
       "2  1660014199092513430              5309  1660014199092513430   \n",
       "3  1660014199097677133              5310  1660014199097677133   \n",
       "4  1660014199102629701              5311  1660014199102629701   \n",
       "\n",
       "  field.header.frame_id  field.orientation.x  field.orientation.y  \\\n",
       "0                   imu            -0.002007            -0.001921   \n",
       "1                   imu            -0.001997            -0.001921   \n",
       "2                   imu            -0.001996            -0.001925   \n",
       "3                   imu            -0.001992            -0.001936   \n",
       "4                   imu            -0.001994            -0.001932   \n",
       "\n",
       "   field.orientation.z  field.orientation.w  field.orientation_covariance0  \\\n",
       "0            -0.000186             0.999996                            0.0   \n",
       "1            -0.000192             0.999996                            0.0   \n",
       "2            -0.000190             0.999996                            0.0   \n",
       "3            -0.000191             0.999996                            0.0   \n",
       "4            -0.000193             0.999996                            0.0   \n",
       "\n",
       "   field.orientation_covariance1  ...  field.linear_acceleration.z  \\\n",
       "0                            0.0  ...                     9.798699   \n",
       "1                            0.0  ...                     9.817750   \n",
       "2                            0.0  ...                     9.808000   \n",
       "3                            0.0  ...                     9.800840   \n",
       "4                            0.0  ...                     9.810385   \n",
       "\n",
       "   field.linear_acceleration_covariance0  \\\n",
       "0                                    0.0   \n",
       "1                                    0.0   \n",
       "2                                    0.0   \n",
       "3                                    0.0   \n",
       "4                                    0.0   \n",
       "\n",
       "   field.linear_acceleration_covariance1  \\\n",
       "0                                    0.0   \n",
       "1                                    0.0   \n",
       "2                                    0.0   \n",
       "3                                    0.0   \n",
       "4                                    0.0   \n",
       "\n",
       "   field.linear_acceleration_covariance2  \\\n",
       "0                                    0.0   \n",
       "1                                    0.0   \n",
       "2                                    0.0   \n",
       "3                                    0.0   \n",
       "4                                    0.0   \n",
       "\n",
       "   field.linear_acceleration_covariance3  \\\n",
       "0                                    0.0   \n",
       "1                                    0.0   \n",
       "2                                    0.0   \n",
       "3                                    0.0   \n",
       "4                                    0.0   \n",
       "\n",
       "   field.linear_acceleration_covariance4  \\\n",
       "0                                    0.0   \n",
       "1                                    0.0   \n",
       "2                                    0.0   \n",
       "3                                    0.0   \n",
       "4                                    0.0   \n",
       "\n",
       "   field.linear_acceleration_covariance5  \\\n",
       "0                                    0.0   \n",
       "1                                    0.0   \n",
       "2                                    0.0   \n",
       "3                                    0.0   \n",
       "4                                    0.0   \n",
       "\n",
       "   field.linear_acceleration_covariance6  \\\n",
       "0                                    0.0   \n",
       "1                                    0.0   \n",
       "2                                    0.0   \n",
       "3                                    0.0   \n",
       "4                                    0.0   \n",
       "\n",
       "   field.linear_acceleration_covariance7  \\\n",
       "0                                    0.0   \n",
       "1                                    0.0   \n",
       "2                                    0.0   \n",
       "3                                    0.0   \n",
       "4                                    0.0   \n",
       "\n",
       "   field.linear_acceleration_covariance8  \n",
       "0                                    0.0  \n",
       "1                                    0.0  \n",
       "2                                    0.0  \n",
       "3                                    0.0  \n",
       "4                                    0.0  \n",
       "\n",
       "[5 rows x 41 columns]"
      ]
     },
     "execution_count": 24,
     "metadata": {},
     "output_type": "execute_result"
    }
   ],
   "source": [
    "df.head()"
   ]
  },
  {
   "cell_type": "code",
   "execution_count": 31,
   "id": "64d022df",
   "metadata": {},
   "outputs": [
    {
     "data": {
      "text/plain": [
       "4953056"
      ]
     },
     "execution_count": 31,
     "metadata": {},
     "output_type": "execute_result"
    }
   ],
   "source": [
    "df[\"field.header.stamp\"][1] - df[\"field.header.stamp\"][0]"
   ]
  },
  {
   "cell_type": "code",
   "execution_count": 34,
   "id": "ac262ebb",
   "metadata": {},
   "outputs": [
    {
     "data": {
      "text/plain": [
       "4902980"
      ]
     },
     "execution_count": 34,
     "metadata": {},
     "output_type": "execute_result"
    }
   ],
   "source": [
    "df[\"field.header.stamp\"][2] - df[\"field.header.stamp\"][1]"
   ]
  },
  {
   "cell_type": "code",
   "execution_count": 22,
   "id": "ee2c4d4c",
   "metadata": {},
   "outputs": [],
   "source": [
    "df1 = pd.read_csv(\"data_raw.csv\", encoding=\"GB2312\")\n"
   ]
  },
  {
   "cell_type": "code",
   "execution_count": 25,
   "id": "5ae96560",
   "metadata": {},
   "outputs": [
    {
     "data": {
      "text/plain": [
       "(80, 41)"
      ]
     },
     "execution_count": 25,
     "metadata": {},
     "output_type": "execute_result"
    }
   ],
   "source": [
    "df1.shape"
   ]
  },
  {
   "cell_type": "code",
   "execution_count": 26,
   "id": "d8a16ef1",
   "metadata": {},
   "outputs": [
    {
     "data": {
      "text/html": [
       "<div>\n",
       "<style scoped>\n",
       "    .dataframe tbody tr th:only-of-type {\n",
       "        vertical-align: middle;\n",
       "    }\n",
       "\n",
       "    .dataframe tbody tr th {\n",
       "        vertical-align: top;\n",
       "    }\n",
       "\n",
       "    .dataframe thead th {\n",
       "        text-align: right;\n",
       "    }\n",
       "</style>\n",
       "<table border=\"1\" class=\"dataframe\">\n",
       "  <thead>\n",
       "    <tr style=\"text-align: right;\">\n",
       "      <th></th>\n",
       "      <th>%time</th>\n",
       "      <th>field.header.seq</th>\n",
       "      <th>field.header.stamp</th>\n",
       "      <th>field.header.frame_id</th>\n",
       "      <th>field.orientation.x</th>\n",
       "      <th>field.orientation.y</th>\n",
       "      <th>field.orientation.z</th>\n",
       "      <th>field.orientation.w</th>\n",
       "      <th>field.orientation_covariance0</th>\n",
       "      <th>field.orientation_covariance1</th>\n",
       "      <th>...</th>\n",
       "      <th>field.linear_acceleration.z</th>\n",
       "      <th>field.linear_acceleration_covariance0</th>\n",
       "      <th>field.linear_acceleration_covariance1</th>\n",
       "      <th>field.linear_acceleration_covariance2</th>\n",
       "      <th>field.linear_acceleration_covariance3</th>\n",
       "      <th>field.linear_acceleration_covariance4</th>\n",
       "      <th>field.linear_acceleration_covariance5</th>\n",
       "      <th>field.linear_acceleration_covariance6</th>\n",
       "      <th>field.linear_acceleration_covariance7</th>\n",
       "      <th>field.linear_acceleration_covariance8</th>\n",
       "    </tr>\n",
       "  </thead>\n",
       "  <tbody>\n",
       "    <tr>\n",
       "      <th>0</th>\n",
       "      <td>1660014322464443628</td>\n",
       "      <td>40529</td>\n",
       "      <td>1660014322464443628</td>\n",
       "      <td>imu</td>\n",
       "      <td>-0.001220</td>\n",
       "      <td>-0.002047</td>\n",
       "      <td>-0.076195</td>\n",
       "      <td>0.99709</td>\n",
       "      <td>0.0</td>\n",
       "      <td>0.0</td>\n",
       "      <td>...</td>\n",
       "      <td>9.808810</td>\n",
       "      <td>0.0</td>\n",
       "      <td>0.0</td>\n",
       "      <td>0.0</td>\n",
       "      <td>0.0</td>\n",
       "      <td>0.0</td>\n",
       "      <td>0.0</td>\n",
       "      <td>0.0</td>\n",
       "      <td>0.0</td>\n",
       "      <td>0.0</td>\n",
       "    </tr>\n",
       "    <tr>\n",
       "      <th>1</th>\n",
       "      <td>1660014322469385007</td>\n",
       "      <td>40530</td>\n",
       "      <td>1660014322469385007</td>\n",
       "      <td>imu</td>\n",
       "      <td>-0.001217</td>\n",
       "      <td>-0.002046</td>\n",
       "      <td>-0.076193</td>\n",
       "      <td>0.99709</td>\n",
       "      <td>0.0</td>\n",
       "      <td>0.0</td>\n",
       "      <td>...</td>\n",
       "      <td>9.818184</td>\n",
       "      <td>0.0</td>\n",
       "      <td>0.0</td>\n",
       "      <td>0.0</td>\n",
       "      <td>0.0</td>\n",
       "      <td>0.0</td>\n",
       "      <td>0.0</td>\n",
       "      <td>0.0</td>\n",
       "      <td>0.0</td>\n",
       "      <td>0.0</td>\n",
       "    </tr>\n",
       "    <tr>\n",
       "      <th>2</th>\n",
       "      <td>1660014322474358933</td>\n",
       "      <td>40531</td>\n",
       "      <td>1660014322474358933</td>\n",
       "      <td>imu</td>\n",
       "      <td>-0.001215</td>\n",
       "      <td>-0.002044</td>\n",
       "      <td>-0.076192</td>\n",
       "      <td>0.99709</td>\n",
       "      <td>0.0</td>\n",
       "      <td>0.0</td>\n",
       "      <td>...</td>\n",
       "      <td>9.808867</td>\n",
       "      <td>0.0</td>\n",
       "      <td>0.0</td>\n",
       "      <td>0.0</td>\n",
       "      <td>0.0</td>\n",
       "      <td>0.0</td>\n",
       "      <td>0.0</td>\n",
       "      <td>0.0</td>\n",
       "      <td>0.0</td>\n",
       "      <td>0.0</td>\n",
       "    </tr>\n",
       "    <tr>\n",
       "      <th>3</th>\n",
       "      <td>1660014322479466817</td>\n",
       "      <td>40532</td>\n",
       "      <td>1660014322479466817</td>\n",
       "      <td>imu</td>\n",
       "      <td>-0.001215</td>\n",
       "      <td>-0.002045</td>\n",
       "      <td>-0.076189</td>\n",
       "      <td>0.99709</td>\n",
       "      <td>0.0</td>\n",
       "      <td>0.0</td>\n",
       "      <td>...</td>\n",
       "      <td>9.796856</td>\n",
       "      <td>0.0</td>\n",
       "      <td>0.0</td>\n",
       "      <td>0.0</td>\n",
       "      <td>0.0</td>\n",
       "      <td>0.0</td>\n",
       "      <td>0.0</td>\n",
       "      <td>0.0</td>\n",
       "      <td>0.0</td>\n",
       "      <td>0.0</td>\n",
       "    </tr>\n",
       "    <tr>\n",
       "      <th>4</th>\n",
       "      <td>1660014322484425587</td>\n",
       "      <td>40533</td>\n",
       "      <td>1660014322484425587</td>\n",
       "      <td>imu</td>\n",
       "      <td>-0.001218</td>\n",
       "      <td>-0.002047</td>\n",
       "      <td>-0.076190</td>\n",
       "      <td>0.99709</td>\n",
       "      <td>0.0</td>\n",
       "      <td>0.0</td>\n",
       "      <td>...</td>\n",
       "      <td>9.782583</td>\n",
       "      <td>0.0</td>\n",
       "      <td>0.0</td>\n",
       "      <td>0.0</td>\n",
       "      <td>0.0</td>\n",
       "      <td>0.0</td>\n",
       "      <td>0.0</td>\n",
       "      <td>0.0</td>\n",
       "      <td>0.0</td>\n",
       "      <td>0.0</td>\n",
       "    </tr>\n",
       "  </tbody>\n",
       "</table>\n",
       "<p>5 rows × 41 columns</p>\n",
       "</div>"
      ],
      "text/plain": [
       "                 %time  field.header.seq   field.header.stamp  \\\n",
       "0  1660014322464443628             40529  1660014322464443628   \n",
       "1  1660014322469385007             40530  1660014322469385007   \n",
       "2  1660014322474358933             40531  1660014322474358933   \n",
       "3  1660014322479466817             40532  1660014322479466817   \n",
       "4  1660014322484425587             40533  1660014322484425587   \n",
       "\n",
       "  field.header.frame_id  field.orientation.x  field.orientation.y  \\\n",
       "0                   imu            -0.001220            -0.002047   \n",
       "1                   imu            -0.001217            -0.002046   \n",
       "2                   imu            -0.001215            -0.002044   \n",
       "3                   imu            -0.001215            -0.002045   \n",
       "4                   imu            -0.001218            -0.002047   \n",
       "\n",
       "   field.orientation.z  field.orientation.w  field.orientation_covariance0  \\\n",
       "0            -0.076195              0.99709                            0.0   \n",
       "1            -0.076193              0.99709                            0.0   \n",
       "2            -0.076192              0.99709                            0.0   \n",
       "3            -0.076189              0.99709                            0.0   \n",
       "4            -0.076190              0.99709                            0.0   \n",
       "\n",
       "   field.orientation_covariance1  ...  field.linear_acceleration.z  \\\n",
       "0                            0.0  ...                     9.808810   \n",
       "1                            0.0  ...                     9.818184   \n",
       "2                            0.0  ...                     9.808867   \n",
       "3                            0.0  ...                     9.796856   \n",
       "4                            0.0  ...                     9.782583   \n",
       "\n",
       "   field.linear_acceleration_covariance0  \\\n",
       "0                                    0.0   \n",
       "1                                    0.0   \n",
       "2                                    0.0   \n",
       "3                                    0.0   \n",
       "4                                    0.0   \n",
       "\n",
       "   field.linear_acceleration_covariance1  \\\n",
       "0                                    0.0   \n",
       "1                                    0.0   \n",
       "2                                    0.0   \n",
       "3                                    0.0   \n",
       "4                                    0.0   \n",
       "\n",
       "   field.linear_acceleration_covariance2  \\\n",
       "0                                    0.0   \n",
       "1                                    0.0   \n",
       "2                                    0.0   \n",
       "3                                    0.0   \n",
       "4                                    0.0   \n",
       "\n",
       "   field.linear_acceleration_covariance3  \\\n",
       "0                                    0.0   \n",
       "1                                    0.0   \n",
       "2                                    0.0   \n",
       "3                                    0.0   \n",
       "4                                    0.0   \n",
       "\n",
       "   field.linear_acceleration_covariance4  \\\n",
       "0                                    0.0   \n",
       "1                                    0.0   \n",
       "2                                    0.0   \n",
       "3                                    0.0   \n",
       "4                                    0.0   \n",
       "\n",
       "   field.linear_acceleration_covariance5  \\\n",
       "0                                    0.0   \n",
       "1                                    0.0   \n",
       "2                                    0.0   \n",
       "3                                    0.0   \n",
       "4                                    0.0   \n",
       "\n",
       "   field.linear_acceleration_covariance6  \\\n",
       "0                                    0.0   \n",
       "1                                    0.0   \n",
       "2                                    0.0   \n",
       "3                                    0.0   \n",
       "4                                    0.0   \n",
       "\n",
       "   field.linear_acceleration_covariance7  \\\n",
       "0                                    0.0   \n",
       "1                                    0.0   \n",
       "2                                    0.0   \n",
       "3                                    0.0   \n",
       "4                                    0.0   \n",
       "\n",
       "   field.linear_acceleration_covariance8  \n",
       "0                                    0.0  \n",
       "1                                    0.0  \n",
       "2                                    0.0  \n",
       "3                                    0.0  \n",
       "4                                    0.0  \n",
       "\n",
       "[5 rows x 41 columns]"
      ]
     },
     "execution_count": 26,
     "metadata": {},
     "output_type": "execute_result"
    }
   ],
   "source": [
    "df1.head()"
   ]
  },
  {
   "cell_type": "code",
   "execution_count": 32,
   "id": "e07d7ead",
   "metadata": {},
   "outputs": [
    {
     "data": {
      "text/plain": [
       "4941379"
      ]
     },
     "execution_count": 32,
     "metadata": {},
     "output_type": "execute_result"
    }
   ],
   "source": [
    "df1[\"field.header.stamp\"][1] - df1[\"field.header.stamp\"][0]"
   ]
  },
  {
   "cell_type": "code",
   "execution_count": 33,
   "id": "59812131",
   "metadata": {},
   "outputs": [
    {
     "data": {
      "text/plain": [
       "4973926"
      ]
     },
     "execution_count": 33,
     "metadata": {},
     "output_type": "execute_result"
    }
   ],
   "source": [
    "df1[\"field.header.stamp\"][2] - df1[\"field.header.stamp\"][1]"
   ]
  },
  {
   "cell_type": "code",
   "execution_count": 35,
   "id": "847875fb",
   "metadata": {},
   "outputs": [
    {
     "data": {
      "text/plain": [
       "-123381786234"
      ]
     },
     "execution_count": 35,
     "metadata": {},
     "output_type": "execute_result"
    }
   ],
   "source": [
    "df[\"field.header.stamp\"][0] - df1[\"field.header.stamp\"][0]"
   ]
  },
  {
   "cell_type": "code",
   "execution_count": 23,
   "id": "6cd7299c",
   "metadata": {
    "scrolled": true
   },
   "outputs": [
    {
     "data": {
      "text/plain": [
       "<matplotlib.collections.PathCollection at 0x7f47fc55c580>"
      ]
     },
     "execution_count": 23,
     "metadata": {},
     "output_type": "execute_result"
    },
    {
     "data": {
      "image/png": "[encoded data removed]",
      "text/plain": [
       "<Figure size 432x288 with 1 Axes>"
      ]
     },
     "metadata": {
      "needs_background": "light"
     },
     "output_type": "display_data"
    }
   ],
   "source": [
    "plt.scatter(df['field.header.stamp'], df['field.orientation.x'])\n",
    "\n"
   ]
  },
  {
   "cell_type": "code",
   "execution_count": 40,
   "id": "ccc310e6",
   "metadata": {},
   "outputs": [
    {
     "data": {
      "text/plain": [
       "<matplotlib.collections.PathCollection at 0x7f47fab97f70>"
      ]
     },
     "execution_count": 40,
     "metadata": {},
     "output_type": "execute_result"
    },
    {
     "data": {
      "image/png": "[encoded data removed]",
      "text/plain": [
       "<Figure size 432x288 with 1 Axes>"
      ]
     },
     "metadata": {
      "needs_background": "light"
     },
     "output_type": "display_data"
    }
   ],
   "source": []
  },
  {
   "cell_type": "code",
   "execution_count": 43,
   "id": "0630b91a",
   "metadata": {},
   "outputs": [
    {
     "data": {
      "text/plain": [
       "<matplotlib.collections.PathCollection at 0x7f47faa4e460>"
      ]
     },
     "execution_count": 43,
     "metadata": {},
     "output_type": "execute_result"
    },
    {
     "data": {
      "image/png": "[encoded data removed]",
      "text/plain": [
       "<Figure size 432x288 with 1 Axes>"
      ]
     },
     "metadata": {
      "needs_background": "light"
     },
     "output_type": "display_data"
    }
   ],
   "source": [
    "         "
   ]
  },
  {
   "cell_type": "code",
   "execution_count": 44,
   "id": "274d43c7",
   "metadata": {},
   "outputs": [
    {
     "data": {
      "text/plain": [
       "<matplotlib.collections.PathCollection at 0x7f47faa32910>"
      ]
     },
     "execution_count": 44,
     "metadata": {},
     "output_type": "execute_result"
    },
    {
     "data": {
      "image/png": "[encoded data removed]",
      "text/plain": [
       "<Figure size 432x288 with 1 Axes>"
      ]
     },
     "metadata": {
      "needs_background": "light"
     },
     "output_type": "display_data"
    }
   ],
   "source": [
    "plt.scatter(df1['%time'], df1['field.linear_acceleration.z'])\n"
   ]
  },
  {
   "cell_type": "code",
   "execution_count": 38,
   "id": "e5c59db8",
   "metadata": {},
   "outputs": [
    {
     "data": {
      "text/plain": [
       "<matplotlib.collections.PathCollection at 0x7f47fac40fd0>"
      ]
     },
     "execution_count": 38,
     "metadata": {},
     "output_type": "execute_result"
    },
    {
     "data": {
      "image/png": "[encoded data removed]",
      "text/plain": [
       "<Figure size 432x288 with 1 Axes>"
      ]
     },
     "metadata": {
      "needs_background": "light"
     },
     "output_type": "display_data"
    }
   ],
   "source": [
    "plt.scatter(df['%time'], df['field.orientation.z'])\n"
   ]
  },
  {
   "cell_type": "code",
   "execution_count": 5,
   "id": "eb8cdb04",
   "metadata": {},
   "outputs": [
    {
     "data": {
      "text/plain": [
       "<matplotlib.collections.PathCollection at 0x7f47fc531e20>"
      ]
     },
     "execution_count": 5,
     "metadata": {},
     "output_type": "execute_result"
    },
    {
     "data": {
      "image/png": "[encoded data removed]",
      "text/plain": [
       "<Figure size 432x288 with 1 Axes>"
      ]
     },
     "metadata": {
      "needs_background": "light"
     },
     "output_type": "display_data"
    }
   ],
   "source": [
    "plt.scatter(df['%time'], df['field.orientation.w'])\n"
   ]
  },
  {
   "cell_type": "code",
   "execution_count": 7,
   "id": "ffcb9a6e",
   "metadata": {},
   "outputs": [
    {
     "data": {
      "text/plain": [
       "<matplotlib.collections.PathCollection at 0x7f47fc405f70>"
      ]
     },
     "execution_count": 7,
     "metadata": {},
     "output_type": "execute_result"
    },
    {
     "data": {
      "image/png": "[encoded data removed]",
      "text/plain": [
       "<Figure size 432x288 with 1 Axes>"
      ]
     },
     "metadata": {
      "needs_background": "light"
     },
     "output_type": "display_data"
    }
   ],
   "source": [
    "\n",
    "\n",
    "plt.scatter(df1['%time'], df1['field.orientation.x'])"
   ]
  },
  {
   "cell_type": "code",
   "execution_count": 8,
   "id": "de07997a",
   "metadata": {},
   "outputs": [
    {
     "data": {
      "text/plain": [
       "<matplotlib.collections.PathCollection at 0x7f47fc3fa550>"
      ]
     },
     "execution_count": 8,
     "metadata": {},
     "output_type": "execute_result"
    },
    {
     "data": {
      "image/png": "[encoded data removed]",
      "text/plain": [
       "<Figure size 432x288 with 1 Axes>"
      ]
     },
     "metadata": {
      "needs_background": "light"
     },
     "output_type": "display_data"
    }
   ],
   "source": []
  },
  {
   "cell_type": "code",
   "execution_count": 9,
   "id": "5a90056c",
   "metadata": {},
   "outputs": [
    {
     "data": {
      "text/plain": [
       "<matplotlib.collections.PathCollection at 0x7f47fc362970>"
      ]
     },
     "execution_count": 9,
     "metadata": {},
     "output_type": "execute_result"
    },
    {
     "data": {
      "image/png": "[encoded data removed]",
      "text/plain": [
       "<Figure size 432x288 with 1 Axes>"
      ]
     },
     "metadata": {
      "needs_background": "light"
     },
     "output_type": "display_data"
    }
   ],
   "source": [
    "plt.scatter(df1['%time'], df1['field.orientation.y'])"
   ]
  },
  {
   "cell_type": "code",
   "execution_count": 10,
   "id": "6efaa3de",
   "metadata": {},
   "outputs": [
    {
     "data": {
      "text/plain": [
       "<matplotlib.collections.PathCollection at 0x7f47fc2da1f0>"
      ]
     },
     "execution_count": 10,
     "metadata": {},
     "output_type": "execute_result"
    },
    {
     "data": {
      "image/png": "[encoded data removed]",
      "text/plain": [
       "<Figure size 432x288 with 1 Axes>"
      ]
     },
     "metadata": {
      "needs_background": "light"
     },
     "output_type": "display_data"
    }
   ],
   "source": []
  },
  {
   "cell_type": "code",
   "execution_count": null,
   "id": "b2117612",
   "metadata": {},
   "outputs": [],
   "source": [
    "plt.scatter(df1['%time'], df1['field.orientation.z'])"
   ]
  },
  {
   "cell_type": "code",
   "execution_count": null,
   "id": "d4efa483",
   "metadata": {},
   "outputs": [],
   "source": [
    "plt.scatter(df1['%time'], df1['field.orientation.w'])"
   ]
  },
  {
   "cell_type": "code",
   "execution_count": null,
   "id": "e7eafdf0",
   "metadata": {},
   "outputs": [],
   "source": []
  },
  {
   "cell_type": "code",
   "execution_count": null,
   "id": "d2796491",
   "metadata": {},
   "outputs": [],
   "source": [
    "plt.scatter(df['%time'], df['field.orientation.z'])"
   ]
  },
  {
   "cell_type": "code",
   "execution_count": null,
   "id": "8851f2b3",
   "metadata": {},
   "outputs": [],
   "source": []
  },
  {
   "cell_type": "code",
   "execution_count": null,
   "id": "e6c15518",
   "metadata": {},
   "outputs": [],
   "source": []
  },
  {
   "cell_type": "code",
   "execution_count": null,
   "id": "d3f67f0f",
   "metadata": {},
   "outputs": [],
   "source": []
  }
 ],
 "metadata": {
  "kernelspec": {
   "display_name": "Python 3 (ipykernel)",
   "language": "python",
   "name": "python3"
  },
  "language_info": {
   "codemirror_mode": {
    "name": "ipython",
    "version": 3
   },
   "file_extension": ".py",
   "mimetype": "text/x-python",
   "name": "python",
   "nbconvert_exporter": "python",
   "pygments_lexer": "ipython3",
   "version": "3.9.12"
  }
 },
 "nbformat": 4,
 "nbformat_minor": 5
}
